{
 "cells": [
  {
   "cell_type": "markdown",
   "id": "c2cfeb4f",
   "metadata": {},
   "source": [
    "# Modules"
   ]
  },
  {
   "cell_type": "markdown",
   "id": "3d62497d",
   "metadata": {},
   "source": [
    "* We know that Functions are used for \"Performing Certain Operations and Provides Code Re-Usability within the same Program but not able to provide Code Re-Usability across the programs.\".\n",
    "* The Purpose of Modules Concept is that \"To Re-use the functions, global variables and Class Names\" from One Program to another Program provided Both The Programs present in Same Folder.\n"
   ]
  },
  {
   "cell_type": "markdown",
   "id": "d82a57a4",
   "metadata": {},
   "source": [
    "#### Definition of Module:\n",
    "A Module is a collection of Functions, Global Variable Names and Class Names.\n"
   ]
  },
  {
   "cell_type": "markdown",
   "id": "6c68ae34",
   "metadata": {},
   "source": [
    "Types of Modules\n",
    "-------------------------------------------------------\n",
    "* In Python Programming, we have Two Types of Modules. They are\n",
    "\t\t1. Pre-Defined Modules\n",
    "\t\t2. Programmer OR User OR Custom Defined Module\n"
   ]
  },
  {
   "cell_type": "markdown",
   "id": "d8e48094",
   "metadata": {},
   "source": [
    "1. **Pre-Defined Modules**\n",
    "-------------------------------------------------------------\n",
    "* These Modules are already defined by Python  Lang Developers and Available in Python Software and  Used by all Python Lang Programmers and for dealing with Universal Requirements.\n",
    "**Examples:** functools,sys,math,calendar,re,pickle,threading,csv..etc\n",
    "* Out-of Many Pre-defined Modules, By default One of the pre-defined module called \"builtins\" imported to all python programs  and It is called Default imported python Module.\n"
   ]
  },
  {
   "cell_type": "markdown",
   "id": "095de421",
   "metadata": {},
   "source": [
    "2. **Programmer OR User OR Custom Defined Module**\n",
    "-------------------------------------------------------------\n",
    "* These Moudles are developed by Python Programmers and avilable in Python Project and Used by Other Members of Same Project for dealing with Common Requirements.\n"
   ]
  },
  {
   "cell_type": "markdown",
   "id": "c24348fb",
   "metadata": {},
   "source": [
    "## Development of Programmer-Defined Module"
   ]
  },
  {
   "cell_type": "markdown",
   "id": "71524d5d",
   "metadata": {},
   "source": [
    "#### To develop Programmer-Defined Modules, we must use the following steps\n",
    "\n",
    "\tStep-1 : Define Variables (Global variables)\n",
    "\tStep-2: Define Functions \n",
    "\tStep-3: Define Classes\n",
    "\n",
    "* After developing step-1, step-2 and step-3 , we must save on some file name with an extension .py (FileName.py) and it is treated as module name. \n",
    "* Hence Every Python File is treated as Module Name.\n",
    "* When a file name treated as a module name , internally Python execution environment creates a folder automatically on the name of  __pycache__ and it contains module name on the name  of \"filename.cpython-311.pyc \".\n"
   ]
  },
  {
   "cell_type": "markdown",
   "id": "3639167b",
   "metadata": {},
   "source": [
    "# Number of approaches to re-use Modules"
   ]
  },
  {
   "cell_type": "markdown",
   "id": "c2877c91",
   "metadata": {},
   "source": [
    "* We know that A Module is a collection of variables, Functions and Classes.\n",
    "* To re-use the features(Variable Names, Function Names and Class Names ) of module, we have 2  approaches.They are\n",
    "\t\t1) By using  import statement\n",
    "\t\t2) By using from....  import statement.\n"
   ]
  },
  {
   "cell_type": "markdown",
   "id": "020bdaf6",
   "metadata": {},
   "source": [
    "1) By using  import statement:\n",
    "---------------------------------------------------------------------------------------\n",
    "* 'import' is a keyword\n",
    "* The purpose of import statement is that \"To refer or access the variable names, function names and class names in current program\" \n",
    "* we can use import statement in 4 ways.\n",
    "\n",
    "\n"
   ]
  },
  {
   "cell_type": "markdown",
   "id": "961ca6e7",
   "metadata": {},
   "source": [
    "Syntax-1:                 import   module name\n",
    "\n",
    "* This syntax imports single module"
   ]
  },
  {
   "cell_type": "markdown",
   "id": "0cab93f9",
   "metadata": {},
   "source": [
    "Syntax-2:            import   module name1, module name2....Module name-n\n",
    "\n",
    "* This syntax imports multiple modules\n"
   ]
  },
  {
   "cell_type": "markdown",
   "id": "11b7383c",
   "metadata": {},
   "source": [
    "Syntax-3:                 import   module name as alias name\n",
    "\n",
    "* This syntax imports single module and aliased with another unique  names\n"
   ]
  },
  {
   "cell_type": "markdown",
   "id": "189c0191",
   "metadata": {},
   "source": [
    "Syntax-4:             import   module name1 as alias name, module name2 as alias...\tname......module name-n as alias name\n",
    "\n",
    "* This syntax imports multiple  modules and aliased with another unique  names\n"
   ]
  },
  {
   "cell_type": "markdown",
   "id": "83782d3a",
   "metadata": {},
   "source": [
    "2) By using from....  import statement.\n",
    "\n",
    "* Here \"from\" \"import\" are the key words\n",
    "* The purpose of from....  import statement is that \" To refer or access the variable names, function names and class names in current program directly without writing module name as alias name of Module name.\" \n",
    "\n",
    "**we can use  from.... import statement in 3 ways.**\n",
    "\n",
    "\n",
    "Syntax-1:       from module name import Variable Names,Function Names, Class Names\n",
    "\n",
    "* This syntax imports the Variable Names,Function Names, Class Names of a module.\n",
    "\n"
   ]
  },
  {
   "cell_type": "markdown",
   "id": "aa5b0eb7",
   "metadata": {},
   "source": [
    "Syntax-2:   from module name import Variable Names as alias name,Function Names as \n",
    "                  alias  name ,  Class Names as alias names.\n",
    "* This syntax imports the Variable Names,Function Names, Class Names of a module with Unique alias Names\n"
   ]
  },
  {
   "cell_type": "markdown",
   "id": "7588ba8f",
   "metadata": {},
   "source": [
    "Syntax-3:       from module name import  *\n",
    "\n",
    "* This syntax imports ALL Variable Names,Function Names, Class Names of a module.\n",
    "* This syntax is not recommmended to use bcoz it imports required Features of Module and also import un-interrested features also imported and leads more main memory space.\n"
   ]
  },
  {
   "cell_type": "markdown",
   "id": "156135b7",
   "metadata": {},
   "source": [
    "=>Hence after importing all the variable names, Function names and class names by using \"from ....import statement\" , we must access variable names, Function names and class names Directly without using   Module Names or alias names.\n",
    "\n"
   ]
  },
  {
   "cell_type": "markdown",
   "id": "2c915a3c",
   "metadata": {},
   "source": [
    "\"import statement\"  we can give alias name for module names only but not for Variables Names, Function Names and Class Names.  Where as with \"from ... import statement \" we can give alias names for Variables Names, Function Names and Class Names but not for Module Name."
   ]
  },
  {
   "cell_type": "code",
   "execution_count": null,
   "id": "ae4eb42d",
   "metadata": {},
   "outputs": [],
   "source": [
    "#Aop.py---File Name and Moudle Name\n",
    "def  sumop(a,b):\n",
    "    c=a+b\n",
    "    print(\"sum({},{})={}\".format(a,b,c))\n",
    "\n",
    "def  subop(a,b):\n",
    "    c=a-b\n",
    "    print(\"sub({},{})={}\".format(a,b,c))\n",
    "\n",
    "def  mulop(a,b):\n",
    "    c=a*b\n",
    "    print(\"mul({},{})={}\".format(a,b,c))\n"
   ]
  },
  {
   "cell_type": "code",
   "execution_count": null,
   "id": "0e730b78",
   "metadata": {},
   "outputs": [],
   "source": [
    "#SE2.py\n",
    "import Aop\n",
    "Aop.sumop(10,20)\n",
    "Aop.subop(100,200)\n",
    "Aop.mulop(2,4)\n"
   ]
  },
  {
   "cell_type": "code",
   "execution_count": null,
   "id": "df5431d8",
   "metadata": {},
   "outputs": [],
   "source": [
    "import Aop as ap\n",
    "ap.sumop(110,210)\n",
    "ap.subop(100,20)\n",
    "ap.mulop(2,7)\n"
   ]
  }
 ],
 "metadata": {
  "kernelspec": {
   "display_name": "Python 3 (ipykernel)",
   "language": "python",
   "name": "python3"
  },
  "language_info": {
   "codemirror_mode": {
    "name": "ipython",
    "version": 3
   },
   "file_extension": ".py",
   "mimetype": "text/x-python",
   "name": "python",
   "nbconvert_exporter": "python",
   "pygments_lexer": "ipython3",
   "version": "3.9.13"
  }
 },
 "nbformat": 4,
 "nbformat_minor": 5
}
